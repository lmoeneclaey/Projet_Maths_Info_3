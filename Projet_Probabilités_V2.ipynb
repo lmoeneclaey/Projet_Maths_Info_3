{
 "cells": [
  {
   "cell_type": "markdown",
   "metadata": {},
   "source": [
    "# Enoncé du problème\n",
    "\n",
    "L'objectif de ce projet est d'estimer la longueur de câble sous-marin nécessaire pour relier deux côtes $A$ et $B$  en utilisant des simulations conditionnelles.\n",
    "\n",
    "\n",
    "Le câble reposera sur le fond marin dont la profondeur est inconnue.\n",
    "Le segment $[AB]$ est discrétisé par une séquence de (N+1) points. On pose $x_0=A$ et pour $i=1,\\dots,N$, $$x_i=x_0+i\\Delta$$ où $$\\Delta = \\frac{AB}{N}$$ de telle sorte que $x_N=B$.\n",
    "On note $z(x)$ la profondeur du fond marin au point $x$ de telle sorte \n",
    "qu'on pourra estimer la longueur totale de câble nécessaire par la somme \n",
    "des longueurs sur les segments de la discrétisation :\n",
    "\n",
    "$$l=\\sum_{i=1}^N\\sqrt{\\Delta^2+(z(x_i)-z(x_{i-1}))^2}.$$\n",
    "\n",
    "Enfin, notons que l'on dispose d'un ensemble de $n$ observations de la \n",
    "profondeur que l'on supposera situées sur des points de discrétisation $z(x_{j_1}),\\dots,z(x_{j_n})$.\n",
    "\n",
    "\n",
    "On adopte un modèle probabiliste pour la profondeur. On suppose que le vecteur des \n",
    "profondeurs sur les points de discrétisation \n",
    "$\\mathbf{z}=(z(x_0),\\dots,z(x_N))$ est la réalisation\n",
    "d'un vecteur aléatoire gaussien $\\mathbf{Z}=(Z(x_0),\\dots,Z(x_N))$ \n",
    "dont le vecteur d'espérance ne contient qu'une seule valeur $\\mu$ \n",
    "répétée $N+1$ fois et dont la matrice de covariance $\\Sigma$ a pour termes $\\sigma_{ij}$\n",
    "définis par $\\sigma_{ij}=C(|x_i-x_j|)$ où $C$ est une\n",
    "fonction décroissante, traduisant le fait que deux points \n",
    "géographiquement proches ont tendance à avoir des profondeurs plus similaires que deux points éloignés.\n",
    "\n",
    "On supposera que la matrice de covariance ainsi \n",
    "générée est définie-positive (en fait, $C$ sera choisie parmi les fonctions qui, \n",
    "appliquées aux termes d'une matrice de distance, produisent des matrices définie-positives). \n",
    "\n",
    "Si on note $L$ la variable aléatoire donnant la longueur de cable nécessaire : \n",
    "$$L=\\sum_{i=1}^N\\sqrt{\\Delta^2+(Z(x_i)-Z(x_{i-1}))^2},$$\n",
    "un bon estimateur de $L$ est fourni par l'espérance conditionnelle \n",
    "\n",
    "$$L^\\star=E[L|Z(x_{j_1})=z(x_{j_1}),\\dots,Z(x_{j_n})=z(x_{j_n})].$$\n",
    "                                                                              \n",
    "Cependant, cette quantité est difficilement accessible par le calcul. \n",
    "On va donc avoir recours à des\n",
    "simulations conditionnelles. C'est-à-dire que l'on va simuler \n",
    "un nombre $K$ de réalités (disons des réalisations du modèle \n",
    "probabiliste choisi), et sur chacune d'entre elle, \n",
    "la quantité de câble nécessaire sera évaluée. \n",
    "On disposera ainsi d'un échantillon $l_{(1)},\\dots,l_{(K)}$ de \n",
    "longueures simulées. Puis on approchera l'espérance conditionnelle  par \n",
    "$$L^\\star=\\sum_{k=1}^K l_{(k)}.$$\n",
    "\n",
    "L'objectif de ce projet est donc d'écrire un code permettant \n",
    "d'effectuer cette simulation conditionnelle, puis de l'appliquer \n",
    "au jeu de données fourni et d'en déduire une estimation de la longueur de câble nécessaire."
   ]
  },
  {
   "cell_type": "markdown",
   "metadata": {},
   "source": [
    "# Questions théoriques\n",
    "\n",
    "1. Quel théorème du cours nous autorise-t-il à estimer l'espérance conditionnelle par la moyenne empirique de simulations conditionnelles ?\n",
    "\n",
    "2. Rappeler la loi conditionnelle du vecteur des composantes de $\\mathbf{Z}$ correspondant aux points de discrétisation\n",
    "sans observation, connaissant les valeurs prises par les composantes aux sites d'observation.\n",
    "\n",
    "3. Si $\\mathbf{Y}=(Y_1,\\dots,Y_p)$ est un vecteur de composantes gaussiennes indépendantes, toutes d'espérance nulle et de variance 1, \n",
    "quelle est la loi du vecteur $\\mathbf{Z}=m+R\\mathbf{Y}$ où $R$ est une matrice $p\\times p$ et $m$ est un vecteur de taille $p$ ?\n",
    "\n",
    "4. En déduire un algorithme de simulation conditionnelle."
   ]
  },
  {
   "cell_type": "markdown",
   "metadata": {},
   "source": [
    "Question 1 :"
   ]
  },
  {
   "cell_type": "markdown",
   "metadata": {},
   "source": [
    "La loi forte des grands nombres nous autorise à évaluer une espérance conditionnelle par une moyenne empirique. En effet cela revient à calculer l'espérance d'une variable aléatoire selon la loi de probabilité $ P_{X|Y} $. Ainsi il suffit de générer un échantillon ($ l_{1} $,$ l_{2} $,..., $ l_{K} $) de même loi $ P_{X|Y} $ et on pose $ M_{K} = { \\sum_{i=0}^{K}} l_{i}$ </strong>. D'après la loi des grands nombres on aura alors $  M_{K}\\rightarrow L^{*} $ lorsque $ K\\rightarrow \\infty $."
   ]
  },
  {
   "cell_type": "markdown",
   "metadata": {},
   "source": [
    "Question 2 :"
   ]
  },
  {
   "cell_type": "markdown",
   "metadata": {},
   "source": [
    "$ f_{Z|z=z_{0}}(x) = \\frac{1}{(2\\pi)^{k/2}\\sqrt{det(\\Sigma S_{Z})}}exp(-\\frac{1}{2}(x-\\psi(z_{0}))^{t}(\\Sigma S_{Z})^{-1}(x-\\psi(z_{0})))$"
   ]
  },
  {
   "cell_type": "markdown",
   "metadata": {},
   "source": [
    "Question 3 :"
   ]
  },
  {
   "cell_type": "markdown",
   "metadata": {},
   "source": [
    "Comme $\\mathbf{Z}=m+R\\mathbf{Y}$, on cherche la loi de $\\mathbf{Z}=g(\\mathbf{Y})$ où $ g(x)=Rx+m$ est une fonction affine. D'après le cours, il faut effectuer le changement de variable $y=Rx+m$ dans l'expression de l'espérance afin d'obtenir la densité de $\\mathbf{Z}$. On obtient alors $f_{\\mathbf{Z}}(z)=f_{\\mathbf{Y}}(z"
   ]
  },
  {
   "cell_type": "markdown",
   "metadata": {},
   "source": [
    "# Données du problème\n",
    "Conventionnellement, $A$ est l'origine, $B=500$, $N=100$.\n",
    "\n",
    "Les données $$\\begin{array}{c|r}i & z(x_i)\\\\\n",
    "\\hline\n",
    "0 & 0\\\\\n",
    "20 & -4\\\\\n",
    "40 & -12.8\\\\\n",
    "60 & -1\\\\\n",
    "80 & -6.5\\\\\n",
    "100 & 0\\end{array}$$\n",
    "\n",
    "L'espérance de chaque composante du vecteur aléatoire $\\mathbf{Z}$ est donnée par $\\mu=-5.$\n",
    "\n",
    "La fonction $C$ est définie par $$C(h)=\\sigma^2 e^{-|h|/a},$$\n",
    "\n",
    "où $|h|$ correspond à la distance entre deux points, $a=50$ et $\\sigma^2=12$.\n"
   ]
  },
  {
   "cell_type": "markdown",
   "metadata": {},
   "source": [
    "# Implémentation"
   ]
  },
  {
   "cell_type": "markdown",
   "metadata": {},
   "source": [
    "## Préambule"
   ]
  },
  {
   "cell_type": "code",
   "execution_count": 3,
   "metadata": {},
   "outputs": [],
   "source": [
    "#Chargement de dépendances\n",
    "\n",
    "import numpy as np\n",
    "import matplotlib.pyplot as plt\n",
    "from math import*\n",
    "import random as random\n",
    "#Discrétisation\n",
    "A=0\n",
    "B=500\n",
    "N=101 #Nombre de points de discrétisation\n",
    "Delta = (B-A)/(N-1)\n",
    "discretization_indexes = np.arange(N)\n",
    "discretization = discretization_indexes*Delta\n",
    "#Paramètres du modèle\n",
    "\n",
    "mu=-5\n",
    "a = 50\n",
    "sigma2 = 12\n",
    "\n",
    "#Données\n",
    "\n",
    "observation_indexes = [0,20,40,60,80,100]\n",
    "depth = np.array([0,-4,-12.8,-1,-6.5,0])\n",
    "\n",
    "#Indices des composantes correspondant aux observations et aux componsantes non observées\n",
    "\n",
    "unknown_indexes=list(set(discretization_indexes)-set(observation_indexes))\n"
   ]
  },
  {
   "cell_type": "markdown",
   "metadata": {},
   "source": [
    "## Questions\n",
    "\n",
    "1. Ecrire une fonction qui prend en argument la distance entre les points, le paramètre $a$, et le paramètre $\\sigma^2$, et qui retourne la covariance entre deux points.\n",
    "On pourra fournir une matrice de distance à cette fonction. Dans ce cas, la fonction renverra la matrice de covariance."
   ]
  },
  {
   "cell_type": "code",
   "execution_count": 4,
   "metadata": {},
   "outputs": [],
   "source": [
    "def covariance(h,a,sigma2):\n",
    "    result = sigma2*np.exp(-abs(h)/a)\n",
    "    return result"
   ]
  },
  {
   "cell_type": "markdown",
   "metadata": {},
   "source": [
    "2. Calculer la matrice de distance."
   ]
  },
  {
   "cell_type": "code",
   "execution_count": 5,
   "metadata": {},
   "outputs": [
    {
     "name": "stdout",
     "output_type": "stream",
     "text": [
      "[[  0.   5.  10. ... 490. 495. 500.]\n",
      " [  5.   0.   5. ... 485. 490. 495.]\n",
      " [ 10.   5.   0. ... 480. 485. 490.]\n",
      " ...\n",
      " [490. 485. 480. ...   0.   5.  10.]\n",
      " [495. 490. 485. ...   5.   0.   5.]\n",
      " [500. 495. 490. ...  10.   5.   0.]]\n"
     ]
    }
   ],
   "source": [
    "dist = np.eye(N,N)\n",
    "for i in range(0,N):\n",
    "    for j in range(0,N):\n",
    "        dist[i,j] = abs(j-i)*Delta\n",
    "print(dist)"
   ]
  },
  {
   "cell_type": "markdown",
   "metadata": {},
   "source": [
    "3. Calculer la matrice de covariance du vecteur $\\mathbf{Z}=(Z(x_0),\\dots,Z(x_N))$."
   ]
  },
  {
   "cell_type": "code",
   "execution_count": 6,
   "metadata": {},
   "outputs": [
    {
     "name": "stdout",
     "output_type": "stream",
     "text": [
      "[[1.20000000e+01 1.08580490e+01 9.82476904e+00 ... 6.65419193e-04\n",
      "  6.02096185e-04 5.44799157e-04]\n",
      " [1.08580490e+01 1.20000000e+01 1.08580490e+01 ... 7.35401941e-04\n",
      "  6.65419193e-04 6.02096185e-04]\n",
      " [9.82476904e+00 1.08580490e+01 1.20000000e+01 ... 8.12744838e-04\n",
      "  7.35401941e-04 6.65419193e-04]\n",
      " ...\n",
      " [6.65419193e-04 7.35401941e-04 8.12744838e-04 ... 1.20000000e+01\n",
      "  1.08580490e+01 9.82476904e+00]\n",
      " [6.02096185e-04 6.65419193e-04 7.35401941e-04 ... 1.08580490e+01\n",
      "  1.20000000e+01 1.08580490e+01]\n",
      " [5.44799157e-04 6.02096185e-04 6.65419193e-04 ... 9.82476904e+00\n",
      "  1.08580490e+01 1.20000000e+01]]\n"
     ]
    }
   ],
   "source": [
    "Sigma = covariance(dist,a,sigma2)\n",
    "print(Sigma)"
   ]
  },
  {
   "cell_type": "markdown",
   "metadata": {},
   "source": [
    "4. Extraire les 3 matrices de covariance suivantes :\n",
    "\n",
    " * entre les observations\n",
    "\n",
    " * entre les observations et les inconnues\n",
    "\n",
    " * entre les inconnues\n"
   ]
  },
  {
   "cell_type": "code",
   "execution_count": 7,
   "metadata": {},
   "outputs": [],
   "source": [
    "i=0\n",
    "Cov_obs = np.array([0.0]*36).reshape(6,6)\n",
    "Cov_inc = np.array([0.0]*((N-6)*(N-6))).reshape(N-6,N-6)\n",
    "Cov_inc_obs = np.array([0.0]*((N-6)*6)).reshape(N-6,6)\n",
    "for p in observation_indexes:\n",
    "    j=0\n",
    "    for q in observation_indexes:\n",
    "        Cov_obs[i][j] = Sigma[p][q]\n",
    "        j=j+1\n",
    "    i=i+1\n",
    "i=0\n",
    "for p in unknown_indexes:\n",
    "    j=0\n",
    "    for q in unknown_indexes:\n",
    "        Cov_inc[i][j] = Sigma[p][q]\n",
    "        j=j+1\n",
    "    i=i+1\n",
    "i=0\n",
    "for p in unknown_indexes:\n",
    "    j=0\n",
    "    for q in observation_indexes:\n",
    "        Cov_inc_obs[i][j] = Sigma[p][q]\n",
    "        j=j+1\n",
    "    i=i+1\n",
    "        \n",
    "\n",
    "Cov_obs_inc = Cov_inc_obs.transpose()"
   ]
  },
  {
   "cell_type": "markdown",
   "metadata": {},
   "source": [
    "5. Calculer l'espérance conditionnelle des composantes non observées connaissant les observations et la représenter avec les données."
   ]
  },
  {
   "cell_type": "code",
   "execution_count": 8,
   "metadata": {},
   "outputs": [
    {
     "name": "stdout",
     "output_type": "stream",
     "text": [
      "[[ -0.46688335]\n",
      " [ -0.88839774]\n",
      " [ -1.26876184]\n",
      " [ -1.61178245]\n",
      " [ -1.92089264]\n",
      " [ -2.19918609]\n",
      " [ -2.44944805]\n",
      " [ -2.67418323]\n",
      " [ -2.87564085]\n",
      " [ -3.05583718]\n",
      " [ -3.21657567]\n",
      " [ -3.35946505]\n",
      " [ -3.4859354 ]\n",
      " [ -3.59725249]\n",
      " [ -3.69453041]\n",
      " [ -3.77874275]\n",
      " [ -3.85073233]\n",
      " [ -3.91121966]\n",
      " [ -3.96081011]\n",
      " [ -4.31432093]\n",
      " [ -4.62177936]\n",
      " [ -4.92545243]\n",
      " [ -5.2283794 ]\n",
      " [ -5.53359206]\n",
      " [ -5.8441451 ]\n",
      " [ -6.16314662]\n",
      " [ -6.49378931]\n",
      " [ -6.83938234]\n",
      " [ -7.20338453]\n",
      " [ -7.58943893]\n",
      " [ -8.00140931]\n",
      " [ -8.4434188 ]\n",
      " [ -8.91989118]\n",
      " [ -9.43559515]\n",
      " [ -9.99569205]\n",
      " [-10.60578751]\n",
      " [-11.27198758]\n",
      " [-12.00095981]\n",
      " [-11.91810571]\n",
      " [-11.10545015]\n",
      " [-10.35389999]\n",
      " [ -9.65593346]\n",
      " [ -9.00456508]\n",
      " [ -8.39327573]\n",
      " [ -7.81594742]\n",
      " [ -7.26680206]\n",
      " [ -6.74034362]\n",
      " [ -6.23130312]\n",
      " [ -5.73458592]\n",
      " [ -5.2452207 ]\n",
      " [ -4.75830973]\n",
      " [ -4.26897984]\n",
      " [ -3.77233366]\n",
      " [ -3.26340058]\n",
      " [ -2.73708703]\n",
      " [ -2.18812549]\n",
      " [ -1.61102176]\n",
      " [ -1.43702815]\n",
      " [ -1.83839689]\n",
      " [ -2.20812324]\n",
      " [ -2.54990754]\n",
      " [ -2.8671705 ]\n",
      " [ -3.16308739]\n",
      " [ -3.44061983]\n",
      " [ -3.70254547]\n",
      " [ -3.95148576]\n",
      " [ -4.18993216]\n",
      " [ -4.42027113]\n",
      " [ -4.64480797]\n",
      " [ -4.86578994]\n",
      " [ -5.08542869]\n",
      " [ -5.30592243]\n",
      " [ -5.52947795]\n",
      " [ -5.75833267]\n",
      " [ -5.99477703]\n",
      " [ -6.24117745]\n",
      " [ -6.21355942]\n",
      " [ -5.93926455]\n",
      " [ -5.67437016]\n",
      " [ -5.41622509]\n",
      " [ -5.16224574]\n",
      " [ -4.9098902 ]\n",
      " [ -4.65663281]\n",
      " [ -4.39993889]\n",
      " [ -4.13723936]\n",
      " [ -3.86590502]\n",
      " [ -3.58322028]\n",
      " [ -3.28635594]\n",
      " [ -2.97234087]\n",
      " [ -2.6380323 ]\n",
      " [ -2.28008437]\n",
      " [ -1.89491461]\n",
      " [ -1.47866811]\n",
      " [ -1.02717893]\n",
      " [ -0.53592843]]\n"
     ]
    }
   ],
   "source": [
    "def esperance(Z,mu,Cov_obs,Cov_inc_obs):\n",
    "    moy_inc = np.array([[mu]*(N-6)]).reshape(N-6,1)\n",
    "    moy_obs = np.array([[mu]*6]).reshape(6,1)\n",
    "    obs = Z.transpose().reshape(6,1)\n",
    "    inv = np.linalg.inv(Cov_obs)\n",
    "    A = np.dot(Cov_inc_obs,inv)\n",
    "    moy = moy_inc + np.dot(A,(obs-moy_obs))\n",
    "    return moy\n",
    "print(esperance(depth,mu,Cov_obs,Cov_inc_obs))"
   ]
  },
  {
   "cell_type": "markdown",
   "metadata": {},
   "source": [
    "6. Calculer la matrice de covariance conditionnelle et tracer sa diagonale (variance conditionnelle) en fonction de la position. Commenter."
   ]
  },
  {
   "cell_type": "code",
   "execution_count": 9,
   "metadata": {},
   "outputs": [
    {
     "data": {
      "image/png": "[encoded data removed]",
      "text/plain": [
       "<Figure size 432x288 with 1 Axes>"
      ]
     },
     "metadata": {
      "needs_background": "light"
     },
     "output_type": "display_data"
    }
   ],
   "source": [
    "B = np.linalg.inv(Cov_obs)\n",
    "C = np.dot(Cov_inc_obs,B)\n",
    "cov_cond = Cov_inc - np.dot(C,Cov_obs_inc)\n",
    "pos = []\n",
    "var_cond = []\n",
    "for i in range(0,N-6):\n",
    "    var_cond.append(cov_cond[i][i])\n",
    "    \n",
    "plt.plot(unknown_indexes,var_cond)\n",
    "plt.show()"
   ]
  },
  {
   "cell_type": "markdown",
   "metadata": {},
   "source": [
    "7. Effectuer une simulation conditionnelle. Sur un même graphique, tracer la simulation ainsi que les données et l'espérance conditionnelle. Commenter."
   ]
  },
  {
   "cell_type": "code",
   "execution_count": 45,
   "metadata": {},
   "outputs": [
    {
     "data": {
      "image/png": "[encoded data removed]",
      "text/plain": [
       "<Figure size 432x288 with 1 Axes>"
      ]
     },
     "metadata": {
      "needs_background": "light"
     },
     "output_type": "display_data"
    }
   ],
   "source": [
    "def simulation():\n",
    "    T = np.array([0]*len(unknown_indexes)).reshape(N-6,1)\n",
    "    for i in range(0,N-6):\n",
    "        T[i][0] = sqrt(-2*log(random.uniform(0,1)))*cos(2*pi*random.uniform(0,1))\n",
    "    L = np.linalg.cholesky(cov_cond)\n",
    "    P = esperance(depth,mu,Cov_obs,Cov_inc_obs) + np.dot(L,T)\n",
    "    return P\n",
    "P = simulation()\n",
    "plt.plot(unknown_indexes,P)\n",
    "plt.show()\n",
    "\n",
    "    \n",
    "    "
   ]
  },
  {
   "cell_type": "markdown",
   "metadata": {},
   "source": [
    "8. Ecrire une fonction qui calcule la longueur du câble en fonction du vecteur des profondeurs et du pas de discrétisation."
   ]
  },
  {
   "cell_type": "code",
   "execution_count": null,
   "metadata": {},
   "outputs": [],
   "source": []
  },
  {
   "cell_type": "markdown",
   "metadata": {},
   "source": [
    "9. Utiliser cette fonction pour calculer la longueur du câble à partir de 100 simulations. Comparer l'espérance conditionnelle (estimée) de la longueur avec la longueur de l'espérance conditionnelle."
   ]
  },
  {
   "cell_type": "markdown",
   "metadata": {},
   "source": [
    "10. Représenter la suite $M_n$ des moyennes des longueurs de câbles en fonction du nombre de simulations. Commenter."
   ]
  },
  {
   "cell_type": "markdown",
   "metadata": {},
   "source": [
    "11. Représenter l'histogramme des longueurs de câbles générées."
   ]
  },
  {
   "cell_type": "code",
   "execution_count": 10,
   "metadata": {},
   "outputs": [
    {
     "ename": "NameError",
     "evalue": "name 'longueur' is not defined",
     "output_type": "error",
     "traceback": [
      "\u001b[1;31m---------------------------------------------------------------------------\u001b[0m",
      "\u001b[1;31mNameError\u001b[0m                                 Traceback (most recent call last)",
      "\u001b[1;32m<ipython-input-10-4bee45213fe6>\u001b[0m in \u001b[0;36m<module>\u001b[1;34m\u001b[0m\n\u001b[0;32m      5\u001b[0m     \u001b[1;32mreturn\u001b[0m\u001b[1;33m(\u001b[0m\u001b[0mnp\u001b[0m\u001b[1;33m.\u001b[0m\u001b[0mhistogram\u001b[0m\u001b[1;33m(\u001b[0m\u001b[0mres\u001b[0m\u001b[1;33m)\u001b[0m\u001b[1;33m)\u001b[0m\u001b[1;33m\u001b[0m\u001b[1;33m\u001b[0m\u001b[0m\n\u001b[0;32m      6\u001b[0m \u001b[1;33m\u001b[0m\u001b[0m\n\u001b[1;32m----> 7\u001b[1;33m \u001b[0mplt\u001b[0m\u001b[1;33m.\u001b[0m\u001b[0mplot\u001b[0m\u001b[1;33m(\u001b[0m\u001b[0mnp\u001b[0m\u001b[1;33m.\u001b[0m\u001b[0marange\u001b[0m\u001b[1;33m(\u001b[0m\u001b[1;36m100\u001b[0m\u001b[1;33m)\u001b[0m\u001b[1;33m,\u001b[0m \u001b[0mhisto\u001b[0m\u001b[1;33m(\u001b[0m\u001b[1;36m100\u001b[0m\u001b[1;33m)\u001b[0m\u001b[1;33m)\u001b[0m\u001b[1;33m\u001b[0m\u001b[1;33m\u001b[0m\u001b[0m\n\u001b[0m\u001b[0;32m      8\u001b[0m \u001b[0mplt\u001b[0m\u001b[1;33m.\u001b[0m\u001b[0mtitle\u001b[0m\u001b[1;33m(\u001b[0m\u001b[1;34m'Histogramme des longueurs de cable simulées'\u001b[0m\u001b[1;33m)\u001b[0m\u001b[1;33m\u001b[0m\u001b[1;33m\u001b[0m\u001b[0m\n\u001b[0;32m      9\u001b[0m \u001b[0mplt\u001b[0m\u001b[1;33m.\u001b[0m\u001b[0mxlabel\u001b[0m\u001b[1;33m(\u001b[0m\u001b[1;34m'Longueur de cable'\u001b[0m\u001b[1;33m)\u001b[0m\u001b[1;33m\u001b[0m\u001b[1;33m\u001b[0m\u001b[0m\n",
      "\u001b[1;32m<ipython-input-10-4bee45213fe6>\u001b[0m in \u001b[0;36mhisto\u001b[1;34m(N)\u001b[0m\n\u001b[0;32m      2\u001b[0m     \u001b[0mdata\u001b[0m \u001b[1;33m=\u001b[0m \u001b[1;33m[\u001b[0m\u001b[1;33m]\u001b[0m\u001b[1;33m\u001b[0m\u001b[1;33m\u001b[0m\u001b[0m\n\u001b[0;32m      3\u001b[0m     \u001b[1;32mfor\u001b[0m \u001b[0mi\u001b[0m \u001b[1;32min\u001b[0m \u001b[0mrange\u001b[0m \u001b[1;33m(\u001b[0m\u001b[0mN\u001b[0m\u001b[1;33m)\u001b[0m\u001b[1;33m:\u001b[0m\u001b[1;33m\u001b[0m\u001b[1;33m\u001b[0m\u001b[0m\n\u001b[1;32m----> 4\u001b[1;33m         \u001b[0mdata\u001b[0m\u001b[1;33m.\u001b[0m\u001b[0mappend\u001b[0m\u001b[1;33m(\u001b[0m\u001b[0mlongueur\u001b[0m\u001b[1;33m(\u001b[0m\u001b[1;33m)\u001b[0m\u001b[1;33m)\u001b[0m\u001b[1;33m\u001b[0m\u001b[1;33m\u001b[0m\u001b[0m\n\u001b[0m\u001b[0;32m      5\u001b[0m     \u001b[1;32mreturn\u001b[0m\u001b[1;33m(\u001b[0m\u001b[0mnp\u001b[0m\u001b[1;33m.\u001b[0m\u001b[0mhistogram\u001b[0m\u001b[1;33m(\u001b[0m\u001b[0mres\u001b[0m\u001b[1;33m)\u001b[0m\u001b[1;33m)\u001b[0m\u001b[1;33m\u001b[0m\u001b[1;33m\u001b[0m\u001b[0m\n\u001b[0;32m      6\u001b[0m \u001b[1;33m\u001b[0m\u001b[0m\n",
      "\u001b[1;31mNameError\u001b[0m: name 'longueur' is not defined"
     ]
    }
   ],
   "source": [
    "def histo(N):\n",
    "    data = []\n",
    "    for i in range (N):\n",
    "        data.append(longueur())\n",
    "    return(np.histogram(res))\n",
    "\n",
    "plt.plot(np.arange(100), histo(100))\n",
    "plt.title('Histogramme des longueurs de cable simulées')\n",
    "plt.xlabel('Longueur de cable')\n",
    "plt.ylabel('Nombre de simulations')"
   ]
  },
  {
   "cell_type": "markdown",
   "metadata": {},
   "source": [
    "12. Donner un intervalle de confiance à 95% de la longueur du câble par 2 méthodes différentes. Commenter."
   ]
  },
  {
   "cell_type": "markdown",
   "metadata": {},
   "source": [
    "### Méthode 1: Calculatoire"
   ]
  },
  {
   "cell_type": "markdown",
   "metadata": {},
   "source": [
    "On procède tout d'abord par une méthode mécanique basée sur la formule: $IC = \\bar{l} \\pm t\\frac{\\sigma}{\\sqrt{n}}$"
   ]
  },
  {
   "cell_type": "markdown",
   "metadata": {},
   "source": [
    "Ici, $t$ est le coefficient critique qui dépend du niveau de confiance que l'on souhaite obtenir. Nous souhaitons un intervalle à 95% donc $t = 1,960$"
   ]
  },
  {
   "cell_type": "markdown",
   "metadata": {},
   "source": [
    "### Méthode 2: "
   ]
  },
  {
   "cell_type": "markdown",
   "metadata": {},
   "source": [
    "13. Donner une estimation de la probabilité que la longueur du câble dépasse 525 m."
   ]
  },
  {
   "cell_type": "markdown",
   "metadata": {},
   "source": [
    "14. Reprendre les questions précédentes avec 1000, 10000 puis 100000 simulations. Commenter."
   ]
  }
 ],
 "metadata": {
  "@webio": {
   "lastCommId": "5ceb69a5bbd14071b254c2439a58ac4b",
   "lastKernelId": "0e923419-c540-42c1-ab5f-d0e05ff4521c"
  },
  "kernelspec": {
   "display_name": "Python 3",
   "language": "python",
   "name": "python3"
  },
  "language_info": {
   "codemirror_mode": {
    "name": "ipython",
    "version": 3
   },
   "file_extension": ".py",
   "mimetype": "text/x-python",
   "name": "python",
   "nbconvert_exporter": "python",
   "pygments_lexer": "ipython3",
   "version": "3.7.3"
  }
 },
 "nbformat": 4,
 "nbformat_minor": 2
}
